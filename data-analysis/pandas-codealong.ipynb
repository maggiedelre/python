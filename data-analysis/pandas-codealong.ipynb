{
 "cells": [
  {
   "cell_type": "markdown",
   "metadata": {},
   "source": [
    "# Pandas\n",
    "\n",
    "While NumPy can be used to import data, it is optimized around numerical data. Many data sets include categorical variables. For these data sets, it is best to use a library called `pandas`, which focuses on creating and manipulating data frames. "
   ]
  },
  {
   "cell_type": "code",
   "execution_count": 1,
   "metadata": {},
   "outputs": [],
   "source": [
    "import pandas as pd"
   ]
  },
  {
   "cell_type": "markdown",
   "metadata": {},
   "source": [
    "### Read data\n",
    "With `pandas` imported, we can read in .csv files with the `pandas` function `read_csv()`.\n",
    "\n",
    "In that function, we can specify the file we want to use with a URL or with the path to a local file as a string.\n",
    "\n",
    "This saves the data in a structure called a DataFrame.\n",
    "\n",
    "We are going to be using data on [long term average precipitation and temperature values in Boston from ~1980s-2010 from NOAA](https://www.ncei.noaa.gov/data/normals-monthly/doc/NORMAL_MLY_documentation.pdf)."
   ]
  },
  {
   "cell_type": "code",
   "execution_count": 3,
   "metadata": {},
   "outputs": [],
   "source": [
    "filename = \"C:/Users/delre/python/data/boston_precip_temp.csv\" #when you paste the address in, there might\n",
    "#be an error because the slashes are backwards - just change them, it will work\n",
    "\n",
    "# filename = \"https://raw.githubusercontent.com/ENVS110a-SP23/python/main/data/boston_precip_temp.csv\"\n",
    "\n",
    "df = pd.read_csv(filename)\n",
    "\n"
   ]
  },
  {
   "cell_type": "markdown",
   "metadata": {},
   "source": [
    "Our data is now saved as a data frame in Python as the variable `df`. With the data now in the environment, we can take a look at the first few rows with `df.head()`."
   ]
  },
  {
   "cell_type": "code",
   "execution_count": 5,
   "metadata": {},
   "outputs": [
    {
     "data": {
      "text/html": [
       "<div>\n",
       "<style scoped>\n",
       "    .dataframe tbody tr th:only-of-type {\n",
       "        vertical-align: middle;\n",
       "    }\n",
       "\n",
       "    .dataframe tbody tr th {\n",
       "        vertical-align: top;\n",
       "    }\n",
       "\n",
       "    .dataframe thead th {\n",
       "        text-align: right;\n",
       "    }\n",
       "</style>\n",
       "<table border=\"1\" class=\"dataframe\">\n",
       "  <thead>\n",
       "    <tr style=\"text-align: right;\">\n",
       "      <th></th>\n",
       "      <th>station</th>\n",
       "      <th>name</th>\n",
       "      <th>date</th>\n",
       "      <th>temp</th>\n",
       "      <th>diurnal_temp_range</th>\n",
       "      <th>precip-total</th>\n",
       "      <th>snow-totals</th>\n",
       "    </tr>\n",
       "  </thead>\n",
       "  <tbody>\n",
       "    <tr>\n",
       "      <th>0</th>\n",
       "      <td>USW00054704</td>\n",
       "      <td>NORWOOD MEMORIAL AIRPORT, MA US</td>\n",
       "      <td>1</td>\n",
       "      <td>25.9</td>\n",
       "      <td>19.7</td>\n",
       "      <td>3.43</td>\n",
       "      <td>NaN</td>\n",
       "    </tr>\n",
       "    <tr>\n",
       "      <th>1</th>\n",
       "      <td>USW00054704</td>\n",
       "      <td>NORWOOD MEMORIAL AIRPORT, MA US</td>\n",
       "      <td>2</td>\n",
       "      <td>28.9</td>\n",
       "      <td>21.0</td>\n",
       "      <td>3.25</td>\n",
       "      <td>NaN</td>\n",
       "    </tr>\n",
       "    <tr>\n",
       "      <th>2</th>\n",
       "      <td>USW00054704</td>\n",
       "      <td>NORWOOD MEMORIAL AIRPORT, MA US</td>\n",
       "      <td>3</td>\n",
       "      <td>36.4</td>\n",
       "      <td>21.5</td>\n",
       "      <td>4.45</td>\n",
       "      <td>NaN</td>\n",
       "    </tr>\n",
       "    <tr>\n",
       "      <th>3</th>\n",
       "      <td>USW00054704</td>\n",
       "      <td>NORWOOD MEMORIAL AIRPORT, MA US</td>\n",
       "      <td>4</td>\n",
       "      <td>46.8</td>\n",
       "      <td>22.7</td>\n",
       "      <td>4.19</td>\n",
       "      <td>NaN</td>\n",
       "    </tr>\n",
       "    <tr>\n",
       "      <th>4</th>\n",
       "      <td>USW00054704</td>\n",
       "      <td>NORWOOD MEMORIAL AIRPORT, MA US</td>\n",
       "      <td>5</td>\n",
       "      <td>56.4</td>\n",
       "      <td>24.9</td>\n",
       "      <td>3.68</td>\n",
       "      <td>NaN</td>\n",
       "    </tr>\n",
       "  </tbody>\n",
       "</table>\n",
       "</div>"
      ],
      "text/plain": [
       "       station                             name  date  temp  \\\n",
       "0  USW00054704  NORWOOD MEMORIAL AIRPORT, MA US     1  25.9   \n",
       "1  USW00054704  NORWOOD MEMORIAL AIRPORT, MA US     2  28.9   \n",
       "2  USW00054704  NORWOOD MEMORIAL AIRPORT, MA US     3  36.4   \n",
       "3  USW00054704  NORWOOD MEMORIAL AIRPORT, MA US     4  46.8   \n",
       "4  USW00054704  NORWOOD MEMORIAL AIRPORT, MA US     5  56.4   \n",
       "\n",
       "   diurnal_temp_range  precip-total  snow-totals  \n",
       "0                19.7          3.43          NaN  \n",
       "1                21.0          3.25          NaN  \n",
       "2                21.5          4.45          NaN  \n",
       "3                22.7          4.19          NaN  \n",
       "4                24.9          3.68          NaN  "
      ]
     },
     "execution_count": 5,
     "metadata": {},
     "output_type": "execute_result"
    }
   ],
   "source": [
    "df.head()"
   ]
  },
  {
   "cell_type": "markdown",
   "metadata": {},
   "source": [
    "We can see that this data frame has several different columns, with information about stations, precipitation and temperature."
   ]
  },
  {
   "cell_type": "markdown",
   "metadata": {},
   "source": [
    "If you have an excel file you can also `pd.read_excel()`. You can specify the sheet name, as well. The default is the first sheet, and you can provide either a single sheet name, or a list of sheets you want as an alternative, which gives you a dictionary of pandas DataFrames.\n",
    "\n",
    "If you say `sheet_name=None`, you will get all of the sheets back."
   ]
  },
  {
   "cell_type": "code",
   "execution_count": 10,
   "metadata": {},
   "outputs": [
    {
     "data": {
      "text/html": [
       "<div>\n",
       "<style scoped>\n",
       "    .dataframe tbody tr th:only-of-type {\n",
       "        vertical-align: middle;\n",
       "    }\n",
       "\n",
       "    .dataframe tbody tr th {\n",
       "        vertical-align: top;\n",
       "    }\n",
       "\n",
       "    .dataframe thead th {\n",
       "        text-align: right;\n",
       "    }\n",
       "</style>\n",
       "<table border=\"1\" class=\"dataframe\">\n",
       "  <thead>\n",
       "    <tr style=\"text-align: right;\">\n",
       "      <th></th>\n",
       "      <th>station</th>\n",
       "      <th>name</th>\n",
       "      <th>date</th>\n",
       "      <th>temp</th>\n",
       "      <th>diurnal_temp_range</th>\n",
       "      <th>precip-total</th>\n",
       "      <th>snow-totals</th>\n",
       "    </tr>\n",
       "  </thead>\n",
       "  <tbody>\n",
       "    <tr>\n",
       "      <th>0</th>\n",
       "      <td>USW00054704</td>\n",
       "      <td>NORWOOD MEMORIAL AIRPORT, MA US</td>\n",
       "      <td>1</td>\n",
       "      <td>25.9</td>\n",
       "      <td>19.7</td>\n",
       "      <td>3.43</td>\n",
       "      <td>NaN</td>\n",
       "    </tr>\n",
       "    <tr>\n",
       "      <th>1</th>\n",
       "      <td>USW00054704</td>\n",
       "      <td>NORWOOD MEMORIAL AIRPORT, MA US</td>\n",
       "      <td>2</td>\n",
       "      <td>28.9</td>\n",
       "      <td>21.0</td>\n",
       "      <td>3.25</td>\n",
       "      <td>NaN</td>\n",
       "    </tr>\n",
       "    <tr>\n",
       "      <th>2</th>\n",
       "      <td>USW00054704</td>\n",
       "      <td>NORWOOD MEMORIAL AIRPORT, MA US</td>\n",
       "      <td>3</td>\n",
       "      <td>36.4</td>\n",
       "      <td>21.5</td>\n",
       "      <td>4.45</td>\n",
       "      <td>NaN</td>\n",
       "    </tr>\n",
       "    <tr>\n",
       "      <th>3</th>\n",
       "      <td>USW00054704</td>\n",
       "      <td>NORWOOD MEMORIAL AIRPORT, MA US</td>\n",
       "      <td>4</td>\n",
       "      <td>46.8</td>\n",
       "      <td>22.7</td>\n",
       "      <td>4.19</td>\n",
       "      <td>NaN</td>\n",
       "    </tr>\n",
       "    <tr>\n",
       "      <th>4</th>\n",
       "      <td>USW00054704</td>\n",
       "      <td>NORWOOD MEMORIAL AIRPORT, MA US</td>\n",
       "      <td>5</td>\n",
       "      <td>56.4</td>\n",
       "      <td>24.9</td>\n",
       "      <td>3.68</td>\n",
       "      <td>NaN</td>\n",
       "    </tr>\n",
       "    <tr>\n",
       "      <th>...</th>\n",
       "      <td>...</td>\n",
       "      <td>...</td>\n",
       "      <td>...</td>\n",
       "      <td>...</td>\n",
       "      <td>...</td>\n",
       "      <td>...</td>\n",
       "      <td>...</td>\n",
       "    </tr>\n",
       "    <tr>\n",
       "      <th>151</th>\n",
       "      <td>USC00194760</td>\n",
       "      <td>MILFORD, MA US</td>\n",
       "      <td>8</td>\n",
       "      <td>NaN</td>\n",
       "      <td>NaN</td>\n",
       "      <td>4.03</td>\n",
       "      <td>0.0</td>\n",
       "    </tr>\n",
       "    <tr>\n",
       "      <th>152</th>\n",
       "      <td>USC00194760</td>\n",
       "      <td>MILFORD, MA US</td>\n",
       "      <td>9</td>\n",
       "      <td>NaN</td>\n",
       "      <td>NaN</td>\n",
       "      <td>3.94</td>\n",
       "      <td>0.0</td>\n",
       "    </tr>\n",
       "    <tr>\n",
       "      <th>153</th>\n",
       "      <td>USC00194760</td>\n",
       "      <td>MILFORD, MA US</td>\n",
       "      <td>10</td>\n",
       "      <td>NaN</td>\n",
       "      <td>NaN</td>\n",
       "      <td>4.57</td>\n",
       "      <td>0.0</td>\n",
       "    </tr>\n",
       "    <tr>\n",
       "      <th>154</th>\n",
       "      <td>USC00194760</td>\n",
       "      <td>MILFORD, MA US</td>\n",
       "      <td>11</td>\n",
       "      <td>NaN</td>\n",
       "      <td>NaN</td>\n",
       "      <td>4.47</td>\n",
       "      <td>0.9</td>\n",
       "    </tr>\n",
       "    <tr>\n",
       "      <th>155</th>\n",
       "      <td>USC00194760</td>\n",
       "      <td>MILFORD, MA US</td>\n",
       "      <td>12</td>\n",
       "      <td>NaN</td>\n",
       "      <td>NaN</td>\n",
       "      <td>4.24</td>\n",
       "      <td>10.6</td>\n",
       "    </tr>\n",
       "  </tbody>\n",
       "</table>\n",
       "<p>156 rows × 7 columns</p>\n",
       "</div>"
      ],
      "text/plain": [
       "         station                             name  date  temp  \\\n",
       "0    USW00054704  NORWOOD MEMORIAL AIRPORT, MA US     1  25.9   \n",
       "1    USW00054704  NORWOOD MEMORIAL AIRPORT, MA US     2  28.9   \n",
       "2    USW00054704  NORWOOD MEMORIAL AIRPORT, MA US     3  36.4   \n",
       "3    USW00054704  NORWOOD MEMORIAL AIRPORT, MA US     4  46.8   \n",
       "4    USW00054704  NORWOOD MEMORIAL AIRPORT, MA US     5  56.4   \n",
       "..           ...                              ...   ...   ...   \n",
       "151  USC00194760                   MILFORD, MA US     8   NaN   \n",
       "152  USC00194760                   MILFORD, MA US     9   NaN   \n",
       "153  USC00194760                   MILFORD, MA US    10   NaN   \n",
       "154  USC00194760                   MILFORD, MA US    11   NaN   \n",
       "155  USC00194760                   MILFORD, MA US    12   NaN   \n",
       "\n",
       "     diurnal_temp_range  precip-total  snow-totals  \n",
       "0                  19.7          3.43          NaN  \n",
       "1                  21.0          3.25          NaN  \n",
       "2                  21.5          4.45          NaN  \n",
       "3                  22.7          4.19          NaN  \n",
       "4                  24.9          3.68          NaN  \n",
       "..                  ...           ...          ...  \n",
       "151                 NaN          4.03          0.0  \n",
       "152                 NaN          3.94          0.0  \n",
       "153                 NaN          4.57          0.0  \n",
       "154                 NaN          4.47          0.9  \n",
       "155                 NaN          4.24         10.6  \n",
       "\n",
       "[156 rows x 7 columns]"
      ]
     },
     "execution_count": 10,
     "metadata": {},
     "output_type": "execute_result"
    }
   ],
   "source": [
    "xlsx = data_dir + \"boston_precip_temp.xlsx\"\n",
    "\n",
    "xlsx = \"https://raw.githubusercontent.com/ENVS110a-SP23/python/main/data/boston_precip_temp.xlsx\"\n",
    "pd.read_excel(xlsx)\n",
    "\n"
   ]
  },
  {
   "cell_type": "code",
   "execution_count": 11,
   "metadata": {},
   "outputs": [
    {
     "data": {
      "text/html": [
       "<div>\n",
       "<style scoped>\n",
       "    .dataframe tbody tr th:only-of-type {\n",
       "        vertical-align: middle;\n",
       "    }\n",
       "\n",
       "    .dataframe tbody tr th {\n",
       "        vertical-align: top;\n",
       "    }\n",
       "\n",
       "    .dataframe thead th {\n",
       "        text-align: right;\n",
       "    }\n",
       "</style>\n",
       "<table border=\"1\" class=\"dataframe\">\n",
       "  <thead>\n",
       "    <tr style=\"text-align: right;\">\n",
       "      <th></th>\n",
       "      <th>station</th>\n",
       "      <th>name</th>\n",
       "      <th>date</th>\n",
       "      <th>temp</th>\n",
       "      <th>diurnal_temp_range</th>\n",
       "      <th>precip-total</th>\n",
       "      <th>snow-totals</th>\n",
       "    </tr>\n",
       "  </thead>\n",
       "  <tbody>\n",
       "    <tr>\n",
       "      <th>0</th>\n",
       "      <td>USC00190860</td>\n",
       "      <td>BROCKTON, MA US</td>\n",
       "      <td>1</td>\n",
       "      <td>27.0</td>\n",
       "      <td>19.3</td>\n",
       "      <td>3.75</td>\n",
       "      <td>NaN</td>\n",
       "    </tr>\n",
       "    <tr>\n",
       "      <th>1</th>\n",
       "      <td>USC00190860</td>\n",
       "      <td>BROCKTON, MA US</td>\n",
       "      <td>2</td>\n",
       "      <td>29.6</td>\n",
       "      <td>19.6</td>\n",
       "      <td>3.59</td>\n",
       "      <td>NaN</td>\n",
       "    </tr>\n",
       "    <tr>\n",
       "      <th>2</th>\n",
       "      <td>USC00190860</td>\n",
       "      <td>BROCKTON, MA US</td>\n",
       "      <td>3</td>\n",
       "      <td>36.7</td>\n",
       "      <td>20.0</td>\n",
       "      <td>5.18</td>\n",
       "      <td>NaN</td>\n",
       "    </tr>\n",
       "    <tr>\n",
       "      <th>3</th>\n",
       "      <td>USC00190860</td>\n",
       "      <td>BROCKTON, MA US</td>\n",
       "      <td>4</td>\n",
       "      <td>46.3</td>\n",
       "      <td>21.6</td>\n",
       "      <td>4.63</td>\n",
       "      <td>NaN</td>\n",
       "    </tr>\n",
       "    <tr>\n",
       "      <th>4</th>\n",
       "      <td>USC00190860</td>\n",
       "      <td>BROCKTON, MA US</td>\n",
       "      <td>5</td>\n",
       "      <td>56.2</td>\n",
       "      <td>23.1</td>\n",
       "      <td>3.58</td>\n",
       "      <td>NaN</td>\n",
       "    </tr>\n",
       "    <tr>\n",
       "      <th>...</th>\n",
       "      <td>...</td>\n",
       "      <td>...</td>\n",
       "      <td>...</td>\n",
       "      <td>...</td>\n",
       "      <td>...</td>\n",
       "      <td>...</td>\n",
       "      <td>...</td>\n",
       "    </tr>\n",
       "    <tr>\n",
       "      <th>139</th>\n",
       "      <td>USC00195984</td>\n",
       "      <td>NORTON, MA US</td>\n",
       "      <td>8</td>\n",
       "      <td>69.9</td>\n",
       "      <td>23.1</td>\n",
       "      <td>4.04</td>\n",
       "      <td>0.0</td>\n",
       "    </tr>\n",
       "    <tr>\n",
       "      <th>140</th>\n",
       "      <td>USC00195984</td>\n",
       "      <td>NORTON, MA US</td>\n",
       "      <td>9</td>\n",
       "      <td>61.8</td>\n",
       "      <td>23.9</td>\n",
       "      <td>3.99</td>\n",
       "      <td>0.0</td>\n",
       "    </tr>\n",
       "    <tr>\n",
       "      <th>141</th>\n",
       "      <td>USC00195984</td>\n",
       "      <td>NORTON, MA US</td>\n",
       "      <td>10</td>\n",
       "      <td>50.6</td>\n",
       "      <td>22.8</td>\n",
       "      <td>4.39</td>\n",
       "      <td>-7777.0</td>\n",
       "    </tr>\n",
       "    <tr>\n",
       "      <th>142</th>\n",
       "      <td>USC00195984</td>\n",
       "      <td>NORTON, MA US</td>\n",
       "      <td>11</td>\n",
       "      <td>42.0</td>\n",
       "      <td>20.8</td>\n",
       "      <td>4.79</td>\n",
       "      <td>1.5</td>\n",
       "    </tr>\n",
       "    <tr>\n",
       "      <th>143</th>\n",
       "      <td>USC00195984</td>\n",
       "      <td>NORTON, MA US</td>\n",
       "      <td>12</td>\n",
       "      <td>31.8</td>\n",
       "      <td>20.0</td>\n",
       "      <td>4.74</td>\n",
       "      <td>9.7</td>\n",
       "    </tr>\n",
       "  </tbody>\n",
       "</table>\n",
       "<p>144 rows × 7 columns</p>\n",
       "</div>"
      ],
      "text/plain": [
       "         station             name  date  temp  diurnal_temp_range  \\\n",
       "0    USC00190860  BROCKTON, MA US     1  27.0                19.3   \n",
       "1    USC00190860  BROCKTON, MA US     2  29.6                19.6   \n",
       "2    USC00190860  BROCKTON, MA US     3  36.7                20.0   \n",
       "3    USC00190860  BROCKTON, MA US     4  46.3                21.6   \n",
       "4    USC00190860  BROCKTON, MA US     5  56.2                23.1   \n",
       "..           ...              ...   ...   ...                 ...   \n",
       "139  USC00195984    NORTON, MA US     8  69.9                23.1   \n",
       "140  USC00195984    NORTON, MA US     9  61.8                23.9   \n",
       "141  USC00195984    NORTON, MA US    10  50.6                22.8   \n",
       "142  USC00195984    NORTON, MA US    11  42.0                20.8   \n",
       "143  USC00195984    NORTON, MA US    12  31.8                20.0   \n",
       "\n",
       "     precip-total  snow-totals  \n",
       "0            3.75          NaN  \n",
       "1            3.59          NaN  \n",
       "2            5.18          NaN  \n",
       "3            4.63          NaN  \n",
       "4            3.58          NaN  \n",
       "..            ...          ...  \n",
       "139          4.04          0.0  \n",
       "140          3.99          0.0  \n",
       "141          4.39      -7777.0  \n",
       "142          4.79          1.5  \n",
       "143          4.74          9.7  \n",
       "\n",
       "[144 rows x 7 columns]"
      ]
     },
     "execution_count": 11,
     "metadata": {},
     "output_type": "execute_result"
    }
   ],
   "source": [
    "# pd.read_excel(xlsx)\n",
    "\n",
    "pd.read_excel(xlsx, sheet_name=0) \n",
    "pd.read_excel(xlsx, sheet_name=1) "
   ]
  },
  {
   "cell_type": "code",
   "execution_count": 3,
   "metadata": {},
   "outputs": [],
   "source": [
    "pd.read_excel(xlsx, sheet_name=['Sheet1','Sheet2'])"
   ]
  },
  {
   "cell_type": "code",
   "execution_count": null,
   "metadata": {},
   "outputs": [],
   "source": [
    "pd.read_excel(xlsx)"
   ]
  },
  {
   "cell_type": "markdown",
   "metadata": {},
   "source": [
    "## Making sure data is in correct form\n",
    "\n",
    "When the data does not have the standard format, there can be issues. This tends to happen when the first line of the .csv file is not column names.\n",
    "\n",
    "For an example, we'll take a look at [a data set of two files on arctic vegetation plots](http://dx.doi.org/10.3334/ORNLDAAC/1358)."
   ]
  },
  {
   "cell_type": "code",
   "execution_count": 2,
   "metadata": {},
   "outputs": [],
   "source": [
    "environmental_data = data_dir + \"Arrigetch_Peaks_Environmental_Data_raw.csv\"\n",
    "environmental_data = \"https://raw.githubusercontent.com/ENVS110a-SP23/python/main/data/Arrigetch_Peaks_Environmental_Data_raw.csv\"\n",
    "pd.read_csv(environmental_data)"
   ]
  },
  {
   "cell_type": "code",
   "execution_count": 17,
   "metadata": {},
   "outputs": [],
   "source": [
    "species_file = data_dir + \"/Arrigetch_Peaks_Species_Data_raw.csv\"\n",
    "species_file = \"/Users/fordfishman/GitHub/envs110/python/data/Arrigetch_Peaks_Species_Data_raw.csv\"\n"
   ]
  },
  {
   "cell_type": "markdown",
   "metadata": {},
   "source": [
    "### Question\n",
    "\n",
    "For in-class questions, we'll be working with a data set called Gapminder. It is in the `data` subdirectory in this repo as `gapminder.csv`. You can also find it at this stable url: `https://raw.githubusercontent.com/ENVS110a-SP23/python/main/data/gapminder.csv`.\n",
    "\n",
    "Load this data set and display the first few rows with `.head()`. **Make sure to save it as a different variable name than `df` to make sure you don't overwrite the precipitation and temperature data frame.**"
   ]
  },
  {
   "cell_type": "code",
   "execution_count": 18,
   "metadata": {},
   "outputs": [],
   "source": [
    "# your code here\n",
    "df2 = pd.read_csv(\"https://raw.githubusercontent.com/ENVS110a-SP23/python/main/data/gapminder.csv\")"
   ]
  },
  {
   "cell_type": "markdown",
   "metadata": {},
   "source": [
    "## Summarize data frame\n",
    "\n",
    "It is important to understand the data we are working with before we begin analysis. First, let's look at the dimenions of the data frame using `df.shape`. It gives the number of rows by the number of columns."
   ]
  },
  {
   "cell_type": "code",
   "execution_count": 20,
   "metadata": {},
   "outputs": [
    {
     "data": {
      "text/plain": [
       "(300, 7)"
      ]
     },
     "execution_count": 20,
     "metadata": {},
     "output_type": "execute_result"
    }
   ],
   "source": [
    "df.head()\n",
    "\n",
    "df.shape #this gives an \"attribute\" of the data frame; sends back a Tuple -- the number of columns followed\n",
    "#by the number of rows]"
   ]
  },
  {
   "cell_type": "markdown",
   "metadata": {},
   "source": [
    "This shows that our data frame has 300 rows by 7 columns.\n",
    "\n",
    "We can get out those numbers individually through indexing."
   ]
  },
  {
   "cell_type": "code",
   "execution_count": 21,
   "metadata": {},
   "outputs": [
    {
     "data": {
      "text/plain": [
       "7"
      ]
     },
     "execution_count": 21,
     "metadata": {},
     "output_type": "execute_result"
    }
   ],
   "source": [
    "nrows = df.shape[0]\n",
    "ncolumns = df.shape[1]"
   ]
  },
  {
   "cell_type": "markdown",
   "metadata": {},
   "source": [
    "`len(df)` also gets back how many rows you have."
   ]
  },
  {
   "cell_type": "code",
   "execution_count": 22,
   "metadata": {},
   "outputs": [
    {
     "data": {
      "text/plain": [
       "300"
      ]
     },
     "execution_count": 22,
     "metadata": {},
     "output_type": "execute_result"
    }
   ],
   "source": [
    "len(df)"
   ]
  },
  {
   "cell_type": "markdown",
   "metadata": {},
   "source": [
    "We can also use `df.columns` to display the column names."
   ]
  },
  {
   "cell_type": "code",
   "execution_count": 23,
   "metadata": {},
   "outputs": [
    {
     "data": {
      "text/plain": [
       "Index(['station', 'name', 'date', 'temp', 'diurnal_temp_range', 'precip-total',\n",
       "       'snow-totals'],\n",
       "      dtype='object')"
      ]
     },
     "execution_count": 23,
     "metadata": {},
     "output_type": "execute_result"
    }
   ],
   "source": [
    "df.columns"
   ]
  },
  {
   "cell_type": "markdown",
   "metadata": {},
   "source": [
    "## Renaming columns and rows\n",
    "\n",
    "We can rename as many columns as you want with `df.rename(columns = {old_name:new_name,...})`. \n",
    "\n",
    "Note that you need to re-assign to `df` or make a new variable if you want to save the renamed columns."
   ]
  },
  {
   "cell_type": "code",
   "execution_count": 27,
   "metadata": {},
   "outputs": [],
   "source": [
    "df.rename(columns={'diurnal_temp_range':'dtr'}) #this does not save the change\n",
    "df = df.rename(columns={'diurnal_temp_range':'dtr'}) #this saves the change in Python, but not the OG file"
   ]
  },
  {
   "cell_type": "markdown",
   "metadata": {},
   "source": [
    "We can also re-assign row names by saying `index` instead of `columns`. This is more rare, however."
   ]
  },
  {
   "cell_type": "code",
   "execution_count": 28,
   "metadata": {},
   "outputs": [
    {
     "data": {
      "text/html": [
       "<div>\n",
       "<style scoped>\n",
       "    .dataframe tbody tr th:only-of-type {\n",
       "        vertical-align: middle;\n",
       "    }\n",
       "\n",
       "    .dataframe tbody tr th {\n",
       "        vertical-align: top;\n",
       "    }\n",
       "\n",
       "    .dataframe thead th {\n",
       "        text-align: right;\n",
       "    }\n",
       "</style>\n",
       "<table border=\"1\" class=\"dataframe\">\n",
       "  <thead>\n",
       "    <tr style=\"text-align: right;\">\n",
       "      <th></th>\n",
       "      <th>station</th>\n",
       "      <th>name</th>\n",
       "      <th>date</th>\n",
       "      <th>temp</th>\n",
       "      <th>dtr</th>\n",
       "      <th>precip-total</th>\n",
       "      <th>snow-totals</th>\n",
       "    </tr>\n",
       "  </thead>\n",
       "  <tbody>\n",
       "    <tr>\n",
       "      <th>first</th>\n",
       "      <td>USW00054704</td>\n",
       "      <td>NORWOOD MEMORIAL AIRPORT, MA US</td>\n",
       "      <td>1</td>\n",
       "      <td>25.9</td>\n",
       "      <td>19.7</td>\n",
       "      <td>3.43</td>\n",
       "      <td>NaN</td>\n",
       "    </tr>\n",
       "    <tr>\n",
       "      <th>second</th>\n",
       "      <td>USW00054704</td>\n",
       "      <td>NORWOOD MEMORIAL AIRPORT, MA US</td>\n",
       "      <td>2</td>\n",
       "      <td>28.9</td>\n",
       "      <td>21.0</td>\n",
       "      <td>3.25</td>\n",
       "      <td>NaN</td>\n",
       "    </tr>\n",
       "    <tr>\n",
       "      <th>2</th>\n",
       "      <td>USW00054704</td>\n",
       "      <td>NORWOOD MEMORIAL AIRPORT, MA US</td>\n",
       "      <td>3</td>\n",
       "      <td>36.4</td>\n",
       "      <td>21.5</td>\n",
       "      <td>4.45</td>\n",
       "      <td>NaN</td>\n",
       "    </tr>\n",
       "    <tr>\n",
       "      <th>3</th>\n",
       "      <td>USW00054704</td>\n",
       "      <td>NORWOOD MEMORIAL AIRPORT, MA US</td>\n",
       "      <td>4</td>\n",
       "      <td>46.8</td>\n",
       "      <td>22.7</td>\n",
       "      <td>4.19</td>\n",
       "      <td>NaN</td>\n",
       "    </tr>\n",
       "    <tr>\n",
       "      <th>4</th>\n",
       "      <td>USW00054704</td>\n",
       "      <td>NORWOOD MEMORIAL AIRPORT, MA US</td>\n",
       "      <td>5</td>\n",
       "      <td>56.4</td>\n",
       "      <td>24.9</td>\n",
       "      <td>3.68</td>\n",
       "      <td>NaN</td>\n",
       "    </tr>\n",
       "    <tr>\n",
       "      <th>...</th>\n",
       "      <td>...</td>\n",
       "      <td>...</td>\n",
       "      <td>...</td>\n",
       "      <td>...</td>\n",
       "      <td>...</td>\n",
       "      <td>...</td>\n",
       "      <td>...</td>\n",
       "    </tr>\n",
       "    <tr>\n",
       "      <th>295</th>\n",
       "      <td>USC00195984</td>\n",
       "      <td>NORTON, MA US</td>\n",
       "      <td>8</td>\n",
       "      <td>69.9</td>\n",
       "      <td>23.1</td>\n",
       "      <td>4.04</td>\n",
       "      <td>0.0</td>\n",
       "    </tr>\n",
       "    <tr>\n",
       "      <th>296</th>\n",
       "      <td>USC00195984</td>\n",
       "      <td>NORTON, MA US</td>\n",
       "      <td>9</td>\n",
       "      <td>61.8</td>\n",
       "      <td>23.9</td>\n",
       "      <td>3.99</td>\n",
       "      <td>0.0</td>\n",
       "    </tr>\n",
       "    <tr>\n",
       "      <th>297</th>\n",
       "      <td>USC00195984</td>\n",
       "      <td>NORTON, MA US</td>\n",
       "      <td>10</td>\n",
       "      <td>50.6</td>\n",
       "      <td>22.8</td>\n",
       "      <td>4.39</td>\n",
       "      <td>-7777.0</td>\n",
       "    </tr>\n",
       "    <tr>\n",
       "      <th>298</th>\n",
       "      <td>USC00195984</td>\n",
       "      <td>NORTON, MA US</td>\n",
       "      <td>11</td>\n",
       "      <td>42.0</td>\n",
       "      <td>20.8</td>\n",
       "      <td>4.79</td>\n",
       "      <td>1.5</td>\n",
       "    </tr>\n",
       "    <tr>\n",
       "      <th>299</th>\n",
       "      <td>USC00195984</td>\n",
       "      <td>NORTON, MA US</td>\n",
       "      <td>12</td>\n",
       "      <td>31.8</td>\n",
       "      <td>20.0</td>\n",
       "      <td>4.74</td>\n",
       "      <td>9.7</td>\n",
       "    </tr>\n",
       "  </tbody>\n",
       "</table>\n",
       "<p>300 rows × 7 columns</p>\n",
       "</div>"
      ],
      "text/plain": [
       "            station                             name  date  temp   dtr  \\\n",
       "first   USW00054704  NORWOOD MEMORIAL AIRPORT, MA US     1  25.9  19.7   \n",
       "second  USW00054704  NORWOOD MEMORIAL AIRPORT, MA US     2  28.9  21.0   \n",
       "2       USW00054704  NORWOOD MEMORIAL AIRPORT, MA US     3  36.4  21.5   \n",
       "3       USW00054704  NORWOOD MEMORIAL AIRPORT, MA US     4  46.8  22.7   \n",
       "4       USW00054704  NORWOOD MEMORIAL AIRPORT, MA US     5  56.4  24.9   \n",
       "...             ...                              ...   ...   ...   ...   \n",
       "295     USC00195984                    NORTON, MA US     8  69.9  23.1   \n",
       "296     USC00195984                    NORTON, MA US     9  61.8  23.9   \n",
       "297     USC00195984                    NORTON, MA US    10  50.6  22.8   \n",
       "298     USC00195984                    NORTON, MA US    11  42.0  20.8   \n",
       "299     USC00195984                    NORTON, MA US    12  31.8  20.0   \n",
       "\n",
       "        precip-total  snow-totals  \n",
       "first           3.43          NaN  \n",
       "second          3.25          NaN  \n",
       "2               4.45          NaN  \n",
       "3               4.19          NaN  \n",
       "4               3.68          NaN  \n",
       "...              ...          ...  \n",
       "295             4.04          0.0  \n",
       "296             3.99          0.0  \n",
       "297             4.39      -7777.0  \n",
       "298             4.79          1.5  \n",
       "299             4.74          9.7  \n",
       "\n",
       "[300 rows x 7 columns]"
      ]
     },
     "execution_count": 28,
     "metadata": {},
     "output_type": "execute_result"
    }
   ],
   "source": [
    "df.rename(index={0:'first', 1:'second'})"
   ]
  },
  {
   "cell_type": "markdown",
   "metadata": {},
   "source": [
    "### Question \n",
    "\n",
    "Using the gapminder data frame, print out the column names. Rename the `age5_surviving` and `babies_per_woman` columns to be shorter."
   ]
  },
  {
   "cell_type": "code",
   "execution_count": 29,
   "metadata": {},
   "outputs": [
    {
     "data": {
      "text/html": [
       "<div>\n",
       "<style scoped>\n",
       "    .dataframe tbody tr th:only-of-type {\n",
       "        vertical-align: middle;\n",
       "    }\n",
       "\n",
       "    .dataframe tbody tr th {\n",
       "        vertical-align: top;\n",
       "    }\n",
       "\n",
       "    .dataframe thead th {\n",
       "        text-align: right;\n",
       "    }\n",
       "</style>\n",
       "<table border=\"1\" class=\"dataframe\">\n",
       "  <thead>\n",
       "    <tr style=\"text-align: right;\">\n",
       "      <th></th>\n",
       "      <th>country</th>\n",
       "      <th>year</th>\n",
       "      <th>region</th>\n",
       "      <th>population</th>\n",
       "      <th>life_expectancy</th>\n",
       "      <th>a5s</th>\n",
       "      <th>bpw</th>\n",
       "      <th>gdp_per_capita</th>\n",
       "      <th>gdp_per_day</th>\n",
       "    </tr>\n",
       "  </thead>\n",
       "  <tbody>\n",
       "    <tr>\n",
       "      <th>0</th>\n",
       "      <td>Afghanistan</td>\n",
       "      <td>1800</td>\n",
       "      <td>Asia</td>\n",
       "      <td>3280000.0</td>\n",
       "      <td>28.21</td>\n",
       "      <td>53.142</td>\n",
       "      <td>7.00</td>\n",
       "      <td>603.0</td>\n",
       "      <td>1.650924</td>\n",
       "    </tr>\n",
       "    <tr>\n",
       "      <th>1</th>\n",
       "      <td>Afghanistan</td>\n",
       "      <td>1810</td>\n",
       "      <td>Asia</td>\n",
       "      <td>3280000.0</td>\n",
       "      <td>28.11</td>\n",
       "      <td>53.002</td>\n",
       "      <td>7.00</td>\n",
       "      <td>604.0</td>\n",
       "      <td>1.653662</td>\n",
       "    </tr>\n",
       "    <tr>\n",
       "      <th>2</th>\n",
       "      <td>Afghanistan</td>\n",
       "      <td>1820</td>\n",
       "      <td>Asia</td>\n",
       "      <td>3323519.0</td>\n",
       "      <td>28.01</td>\n",
       "      <td>52.862</td>\n",
       "      <td>7.00</td>\n",
       "      <td>604.0</td>\n",
       "      <td>1.653662</td>\n",
       "    </tr>\n",
       "    <tr>\n",
       "      <th>3</th>\n",
       "      <td>Afghanistan</td>\n",
       "      <td>1830</td>\n",
       "      <td>Asia</td>\n",
       "      <td>3448982.0</td>\n",
       "      <td>27.90</td>\n",
       "      <td>52.719</td>\n",
       "      <td>7.00</td>\n",
       "      <td>625.0</td>\n",
       "      <td>1.711157</td>\n",
       "    </tr>\n",
       "    <tr>\n",
       "      <th>4</th>\n",
       "      <td>Afghanistan</td>\n",
       "      <td>1840</td>\n",
       "      <td>Asia</td>\n",
       "      <td>3625022.0</td>\n",
       "      <td>27.80</td>\n",
       "      <td>52.576</td>\n",
       "      <td>7.00</td>\n",
       "      <td>647.0</td>\n",
       "      <td>1.771389</td>\n",
       "    </tr>\n",
       "    <tr>\n",
       "      <th>...</th>\n",
       "      <td>...</td>\n",
       "      <td>...</td>\n",
       "      <td>...</td>\n",
       "      <td>...</td>\n",
       "      <td>...</td>\n",
       "      <td>...</td>\n",
       "      <td>...</td>\n",
       "      <td>...</td>\n",
       "      <td>...</td>\n",
       "    </tr>\n",
       "    <tr>\n",
       "      <th>14735</th>\n",
       "      <td>Zimbabwe</td>\n",
       "      <td>2011</td>\n",
       "      <td>Africa</td>\n",
       "      <td>14255592.0</td>\n",
       "      <td>51.60</td>\n",
       "      <td>90.800</td>\n",
       "      <td>3.64</td>\n",
       "      <td>1626.0</td>\n",
       "      <td>4.451745</td>\n",
       "    </tr>\n",
       "    <tr>\n",
       "      <th>14736</th>\n",
       "      <td>Zimbabwe</td>\n",
       "      <td>2012</td>\n",
       "      <td>Africa</td>\n",
       "      <td>14565482.0</td>\n",
       "      <td>54.20</td>\n",
       "      <td>91.330</td>\n",
       "      <td>3.56</td>\n",
       "      <td>1750.0</td>\n",
       "      <td>4.791239</td>\n",
       "    </tr>\n",
       "    <tr>\n",
       "      <th>14737</th>\n",
       "      <td>Zimbabwe</td>\n",
       "      <td>2013</td>\n",
       "      <td>Africa</td>\n",
       "      <td>14898092.0</td>\n",
       "      <td>55.70</td>\n",
       "      <td>91.670</td>\n",
       "      <td>3.49</td>\n",
       "      <td>1773.0</td>\n",
       "      <td>4.854209</td>\n",
       "    </tr>\n",
       "    <tr>\n",
       "      <th>14738</th>\n",
       "      <td>Zimbabwe</td>\n",
       "      <td>2014</td>\n",
       "      <td>Africa</td>\n",
       "      <td>15245855.0</td>\n",
       "      <td>57.00</td>\n",
       "      <td>91.900</td>\n",
       "      <td>3.41</td>\n",
       "      <td>1773.0</td>\n",
       "      <td>4.854209</td>\n",
       "    </tr>\n",
       "    <tr>\n",
       "      <th>14739</th>\n",
       "      <td>Zimbabwe</td>\n",
       "      <td>2015</td>\n",
       "      <td>Africa</td>\n",
       "      <td>15602751.0</td>\n",
       "      <td>59.30</td>\n",
       "      <td>92.040</td>\n",
       "      <td>3.35</td>\n",
       "      <td>1801.0</td>\n",
       "      <td>4.930869</td>\n",
       "    </tr>\n",
       "  </tbody>\n",
       "</table>\n",
       "<p>14740 rows × 9 columns</p>\n",
       "</div>"
      ],
      "text/plain": [
       "           country  year  region  population  life_expectancy     a5s   bpw  \\\n",
       "0      Afghanistan  1800    Asia   3280000.0            28.21  53.142  7.00   \n",
       "1      Afghanistan  1810    Asia   3280000.0            28.11  53.002  7.00   \n",
       "2      Afghanistan  1820    Asia   3323519.0            28.01  52.862  7.00   \n",
       "3      Afghanistan  1830    Asia   3448982.0            27.90  52.719  7.00   \n",
       "4      Afghanistan  1840    Asia   3625022.0            27.80  52.576  7.00   \n",
       "...            ...   ...     ...         ...              ...     ...   ...   \n",
       "14735     Zimbabwe  2011  Africa  14255592.0            51.60  90.800  3.64   \n",
       "14736     Zimbabwe  2012  Africa  14565482.0            54.20  91.330  3.56   \n",
       "14737     Zimbabwe  2013  Africa  14898092.0            55.70  91.670  3.49   \n",
       "14738     Zimbabwe  2014  Africa  15245855.0            57.00  91.900  3.41   \n",
       "14739     Zimbabwe  2015  Africa  15602751.0            59.30  92.040  3.35   \n",
       "\n",
       "       gdp_per_capita  gdp_per_day  \n",
       "0               603.0     1.650924  \n",
       "1               604.0     1.653662  \n",
       "2               604.0     1.653662  \n",
       "3               625.0     1.711157  \n",
       "4               647.0     1.771389  \n",
       "...               ...          ...  \n",
       "14735          1626.0     4.451745  \n",
       "14736          1750.0     4.791239  \n",
       "14737          1773.0     4.854209  \n",
       "14738          1773.0     4.854209  \n",
       "14739          1801.0     4.930869  \n",
       "\n",
       "[14740 rows x 9 columns]"
      ]
     },
     "execution_count": 29,
     "metadata": {},
     "output_type": "execute_result"
    }
   ],
   "source": [
    "# your code here: \n",
    "\n",
    "df2.rename(columns={'babies_per_woman': 'bpw', 'age5_surviving': 'a5s'})"
   ]
  },
  {
   "cell_type": "code",
   "execution_count": null,
   "metadata": {},
   "outputs": [],
   "source": []
  },
  {
   "cell_type": "markdown",
   "metadata": {},
   "source": [
    "### Categorical variables\n",
    "Next, let's summarize the categorical, non-numerical variables. For instance, we can identify how many unique regions we have in the data set.\n",
    "\n",
    "First, to select a column, we use the notation `df['COLUMN_NAME']`."
   ]
  },
  {
   "cell_type": "code",
   "execution_count": 30,
   "metadata": {},
   "outputs": [
    {
     "data": {
      "text/plain": [
       "0      NORWOOD MEMORIAL AIRPORT, MA US\n",
       "1      NORWOOD MEMORIAL AIRPORT, MA US\n",
       "2      NORWOOD MEMORIAL AIRPORT, MA US\n",
       "3      NORWOOD MEMORIAL AIRPORT, MA US\n",
       "4      NORWOOD MEMORIAL AIRPORT, MA US\n",
       "                    ...               \n",
       "295                      NORTON, MA US\n",
       "296                      NORTON, MA US\n",
       "297                      NORTON, MA US\n",
       "298                      NORTON, MA US\n",
       "299                      NORTON, MA US\n",
       "Name: name, Length: 300, dtype: object"
      ]
     },
     "execution_count": 30,
     "metadata": {},
     "output_type": "execute_result"
    }
   ],
   "source": [
    "df['name']"
   ]
  },
  {
   "cell_type": "markdown",
   "metadata": {},
   "source": [
    "Depending on your column name, you can also refer to the column with `df.column_name` as well."
   ]
  },
  {
   "cell_type": "code",
   "execution_count": 31,
   "metadata": {},
   "outputs": [
    {
     "data": {
      "text/plain": [
       "0      USW00054704\n",
       "1      USW00054704\n",
       "2      USW00054704\n",
       "3      USW00054704\n",
       "4      USW00054704\n",
       "          ...     \n",
       "295    USC00195984\n",
       "296    USC00195984\n",
       "297    USC00195984\n",
       "298    USC00195984\n",
       "299    USC00195984\n",
       "Name: station, Length: 300, dtype: object"
      ]
     },
     "execution_count": 31,
     "metadata": {},
     "output_type": "execute_result"
    }
   ],
   "source": [
    "df.station #this only works if the column \n",
    "#name only uses characters; every single column can be referenced the other way regardless of name"
   ]
  },
  {
   "cell_type": "markdown",
   "metadata": {},
   "source": [
    "To identify unique entries in this column, we can use the `pd.unique()` function. "
   ]
  },
  {
   "cell_type": "code",
   "execution_count": 32,
   "metadata": {},
   "outputs": [
    {
     "data": {
      "text/plain": [
       "array(['NORWOOD MEMORIAL AIRPORT, MA US', 'NATICK, MA US',\n",
       "       'MAYNARD, MA US', 'READING, MA US', 'BLUE HILL LCD, MA US',\n",
       "       'JAMAICA PLAIN, MA US', 'LAWRENCE, MA US',\n",
       "       'SOUTH WEYMOUTH NAS, MA US', 'MARBLEHEAD, MA US',\n",
       "       'MIDDLETON, MA US', 'BRIDGEWATER, MA US', 'GROVELAND, MA US',\n",
       "       'MILFORD, MA US', 'BROCKTON, MA US',\n",
       "       'BEVERLY MUNICIPAL AIRPORT, MA US', 'FRANKLIN, MA US',\n",
       "       'HINGHAM, MA US', 'HAVERHILL, MA US', 'BOSTON, MA US',\n",
       "       'BEDFORD HANSCOM FIELD, MA US', 'BEVERLY, MA US', 'LOWELL, MA US',\n",
       "       'WALPOLE 2, MA US', 'LAWRENCE MUNICIPAL AIRPORT, MA US',\n",
       "       'NORTON, MA US'], dtype=object)"
      ]
     },
     "execution_count": 32,
     "metadata": {},
     "output_type": "execute_result"
    }
   ],
   "source": [
    "pd.unique(df['name'])"
   ]
  },
  {
   "cell_type": "markdown",
   "metadata": {},
   "source": [
    "We can also just use the `len()` function to see how many unique values we have."
   ]
  },
  {
   "cell_type": "code",
   "execution_count": 33,
   "metadata": {},
   "outputs": [
    {
     "data": {
      "text/plain": [
       "25"
      ]
     },
     "execution_count": 33,
     "metadata": {},
     "output_type": "execute_result"
    }
   ],
   "source": [
    "len(pd.unique( df['name'] ))\n",
    "#this shows that there are 25 unique names"
   ]
  },
  {
   "cell_type": "markdown",
   "metadata": {},
   "source": [
    "### Numerical variables"
   ]
  },
  {
   "cell_type": "markdown",
   "metadata": {},
   "source": [
    "Numerical columns can be summarized in several ways. Let's find the mean first.\n",
    "\n",
    "To make things simpler, we'll just do calculations on the `population`, `life_expectancy`, and `babies_per_woman` columns. We can put those names in a `list` and then specify that list for the columns."
   ]
  },
  {
   "cell_type": "code",
   "execution_count": 37,
   "metadata": {},
   "outputs": [],
   "source": [
    "num_cols = [ 'date', 'temp', 'diurnal_temp_range', 'precip-total','snow-totals' ] # numerical columns"
   ]
  },
  {
   "cell_type": "code",
   "execution_count": 38,
   "metadata": {},
   "outputs": [
    {
     "data": {
      "text/plain": [
       "station          object\n",
       "name             object\n",
       "date              int64\n",
       "temp            float64\n",
       "dtr             float64\n",
       "precip-total    float64\n",
       "snow-totals     float64\n",
       "dtype: object"
      ]
     },
     "execution_count": 38,
     "metadata": {},
     "output_type": "execute_result"
    }
   ],
   "source": [
    "df.dtypes"
   ]
  },
  {
   "cell_type": "code",
   "execution_count": 39,
   "metadata": {},
   "outputs": [
    {
     "data": {
      "text/html": [
       "<div>\n",
       "<style scoped>\n",
       "    .dataframe tbody tr th:only-of-type {\n",
       "        vertical-align: middle;\n",
       "    }\n",
       "\n",
       "    .dataframe tbody tr th {\n",
       "        vertical-align: top;\n",
       "    }\n",
       "\n",
       "    .dataframe thead th {\n",
       "        text-align: right;\n",
       "    }\n",
       "</style>\n",
       "<table border=\"1\" class=\"dataframe\">\n",
       "  <thead>\n",
       "    <tr style=\"text-align: right;\">\n",
       "      <th></th>\n",
       "      <th>date</th>\n",
       "      <th>temp</th>\n",
       "      <th>dtr</th>\n",
       "      <th>precip-total</th>\n",
       "      <th>snow-totals</th>\n",
       "    </tr>\n",
       "  </thead>\n",
       "  <tbody>\n",
       "    <tr>\n",
       "      <th>0</th>\n",
       "      <td>1</td>\n",
       "      <td>25.9</td>\n",
       "      <td>19.7</td>\n",
       "      <td>3.43</td>\n",
       "      <td>NaN</td>\n",
       "    </tr>\n",
       "    <tr>\n",
       "      <th>1</th>\n",
       "      <td>2</td>\n",
       "      <td>28.9</td>\n",
       "      <td>21.0</td>\n",
       "      <td>3.25</td>\n",
       "      <td>NaN</td>\n",
       "    </tr>\n",
       "    <tr>\n",
       "      <th>2</th>\n",
       "      <td>3</td>\n",
       "      <td>36.4</td>\n",
       "      <td>21.5</td>\n",
       "      <td>4.45</td>\n",
       "      <td>NaN</td>\n",
       "    </tr>\n",
       "    <tr>\n",
       "      <th>3</th>\n",
       "      <td>4</td>\n",
       "      <td>46.8</td>\n",
       "      <td>22.7</td>\n",
       "      <td>4.19</td>\n",
       "      <td>NaN</td>\n",
       "    </tr>\n",
       "    <tr>\n",
       "      <th>4</th>\n",
       "      <td>5</td>\n",
       "      <td>56.4</td>\n",
       "      <td>24.9</td>\n",
       "      <td>3.68</td>\n",
       "      <td>NaN</td>\n",
       "    </tr>\n",
       "    <tr>\n",
       "      <th>...</th>\n",
       "      <td>...</td>\n",
       "      <td>...</td>\n",
       "      <td>...</td>\n",
       "      <td>...</td>\n",
       "      <td>...</td>\n",
       "    </tr>\n",
       "    <tr>\n",
       "      <th>295</th>\n",
       "      <td>8</td>\n",
       "      <td>69.9</td>\n",
       "      <td>23.1</td>\n",
       "      <td>4.04</td>\n",
       "      <td>0.0</td>\n",
       "    </tr>\n",
       "    <tr>\n",
       "      <th>296</th>\n",
       "      <td>9</td>\n",
       "      <td>61.8</td>\n",
       "      <td>23.9</td>\n",
       "      <td>3.99</td>\n",
       "      <td>0.0</td>\n",
       "    </tr>\n",
       "    <tr>\n",
       "      <th>297</th>\n",
       "      <td>10</td>\n",
       "      <td>50.6</td>\n",
       "      <td>22.8</td>\n",
       "      <td>4.39</td>\n",
       "      <td>-7777.0</td>\n",
       "    </tr>\n",
       "    <tr>\n",
       "      <th>298</th>\n",
       "      <td>11</td>\n",
       "      <td>42.0</td>\n",
       "      <td>20.8</td>\n",
       "      <td>4.79</td>\n",
       "      <td>1.5</td>\n",
       "    </tr>\n",
       "    <tr>\n",
       "      <th>299</th>\n",
       "      <td>12</td>\n",
       "      <td>31.8</td>\n",
       "      <td>20.0</td>\n",
       "      <td>4.74</td>\n",
       "      <td>9.7</td>\n",
       "    </tr>\n",
       "  </tbody>\n",
       "</table>\n",
       "<p>300 rows × 5 columns</p>\n",
       "</div>"
      ],
      "text/plain": [
       "     date  temp   dtr  precip-total  snow-totals\n",
       "0       1  25.9  19.7          3.43          NaN\n",
       "1       2  28.9  21.0          3.25          NaN\n",
       "2       3  36.4  21.5          4.45          NaN\n",
       "3       4  46.8  22.7          4.19          NaN\n",
       "4       5  56.4  24.9          3.68          NaN\n",
       "..    ...   ...   ...           ...          ...\n",
       "295     8  69.9  23.1          4.04          0.0\n",
       "296     9  61.8  23.9          3.99          0.0\n",
       "297    10  50.6  22.8          4.39      -7777.0\n",
       "298    11  42.0  20.8          4.79          1.5\n",
       "299    12  31.8  20.0          4.74          9.7\n",
       "\n",
       "[300 rows x 5 columns]"
      ]
     },
     "execution_count": 39,
     "metadata": {},
     "output_type": "execute_result"
    }
   ],
   "source": [
    "df.select_dtypes(include=['int64','float64'])"
   ]
  },
  {
   "cell_type": "code",
   "execution_count": 41,
   "metadata": {},
   "outputs": [],
   "source": [
    "df_num = df.select_dtypes(exclude=['object'])"
   ]
  },
  {
   "cell_type": "markdown",
   "metadata": {},
   "source": [
    "With this set of columns, we can run `.mean()` to find the mean of each column."
   ]
  },
  {
   "cell_type": "code",
   "execution_count": 45,
   "metadata": {},
   "outputs": [
    {
     "data": {
      "text/plain": [
       "<bound method NDFrame._add_numeric_operations.<locals>.std of      date  temp   dtr  precip-total  snow-totals\n",
       "0       1  25.9  19.7          3.43          NaN\n",
       "1       2  28.9  21.0          3.25          NaN\n",
       "2       3  36.4  21.5          4.45          NaN\n",
       "3       4  46.8  22.7          4.19          NaN\n",
       "4       5  56.4  24.9          3.68          NaN\n",
       "..    ...   ...   ...           ...          ...\n",
       "295     8  69.9  23.1          4.04          0.0\n",
       "296     9  61.8  23.9          3.99          0.0\n",
       "297    10  50.6  22.8          4.39      -7777.0\n",
       "298    11  42.0  20.8          4.79          1.5\n",
       "299    12  31.8  20.0          4.74          9.7\n",
       "\n",
       "[300 rows x 5 columns]>"
      ]
     },
     "execution_count": 45,
     "metadata": {},
     "output_type": "execute_result"
    }
   ],
   "source": [
    "df_num.mean() #the mean of each of the columns\n",
    "df_num.median()\n",
    "df_num.std"
   ]
  },
  {
   "cell_type": "markdown",
   "metadata": {},
   "source": [
    "If we want a larger variety of summary statistics, we can use the `.describe()` method."
   ]
  },
  {
   "cell_type": "code",
   "execution_count": 46,
   "metadata": {},
   "outputs": [
    {
     "data": {
      "text/html": [
       "<div>\n",
       "<style scoped>\n",
       "    .dataframe tbody tr th:only-of-type {\n",
       "        vertical-align: middle;\n",
       "    }\n",
       "\n",
       "    .dataframe tbody tr th {\n",
       "        vertical-align: top;\n",
       "    }\n",
       "\n",
       "    .dataframe thead th {\n",
       "        text-align: right;\n",
       "    }\n",
       "</style>\n",
       "<table border=\"1\" class=\"dataframe\">\n",
       "  <thead>\n",
       "    <tr style=\"text-align: right;\">\n",
       "      <th></th>\n",
       "      <th>date</th>\n",
       "      <th>temp</th>\n",
       "      <th>dtr</th>\n",
       "      <th>precip-total</th>\n",
       "      <th>snow-totals</th>\n",
       "    </tr>\n",
       "  </thead>\n",
       "  <tbody>\n",
       "    <tr>\n",
       "      <th>count</th>\n",
       "      <td>300.00000</td>\n",
       "      <td>276.000000</td>\n",
       "      <td>276.000000</td>\n",
       "      <td>300.000000</td>\n",
       "      <td>180.000000</td>\n",
       "    </tr>\n",
       "    <tr>\n",
       "      <th>mean</th>\n",
       "      <td>6.50000</td>\n",
       "      <td>49.424638</td>\n",
       "      <td>20.128986</td>\n",
       "      <td>4.068467</td>\n",
       "      <td>-384.763333</td>\n",
       "    </tr>\n",
       "    <tr>\n",
       "      <th>std</th>\n",
       "      <td>3.45782</td>\n",
       "      <td>15.701830</td>\n",
       "      <td>2.597781</td>\n",
       "      <td>0.464102</td>\n",
       "      <td>1700.634258</td>\n",
       "    </tr>\n",
       "    <tr>\n",
       "      <th>min</th>\n",
       "      <td>1.00000</td>\n",
       "      <td>23.600000</td>\n",
       "      <td>13.000000</td>\n",
       "      <td>2.790000</td>\n",
       "      <td>-7777.000000</td>\n",
       "    </tr>\n",
       "    <tr>\n",
       "      <th>25%</th>\n",
       "      <td>3.75000</td>\n",
       "      <td>34.675000</td>\n",
       "      <td>18.275000</td>\n",
       "      <td>3.750000</td>\n",
       "      <td>0.000000</td>\n",
       "    </tr>\n",
       "    <tr>\n",
       "      <th>50%</th>\n",
       "      <td>6.50000</td>\n",
       "      <td>49.200000</td>\n",
       "      <td>20.200000</td>\n",
       "      <td>4.030000</td>\n",
       "      <td>0.600000</td>\n",
       "    </tr>\n",
       "    <tr>\n",
       "      <th>75%</th>\n",
       "      <td>9.25000</td>\n",
       "      <td>64.675000</td>\n",
       "      <td>21.825000</td>\n",
       "      <td>4.390000</td>\n",
       "      <td>9.200000</td>\n",
       "    </tr>\n",
       "    <tr>\n",
       "      <th>max</th>\n",
       "      <td>12.00000</td>\n",
       "      <td>74.300000</td>\n",
       "      <td>26.400000</td>\n",
       "      <td>5.580000</td>\n",
       "      <td>18.900000</td>\n",
       "    </tr>\n",
       "  </tbody>\n",
       "</table>\n",
       "</div>"
      ],
      "text/plain": [
       "            date        temp         dtr  precip-total  snow-totals\n",
       "count  300.00000  276.000000  276.000000    300.000000   180.000000\n",
       "mean     6.50000   49.424638   20.128986      4.068467  -384.763333\n",
       "std      3.45782   15.701830    2.597781      0.464102  1700.634258\n",
       "min      1.00000   23.600000   13.000000      2.790000 -7777.000000\n",
       "25%      3.75000   34.675000   18.275000      3.750000     0.000000\n",
       "50%      6.50000   49.200000   20.200000      4.030000     0.600000\n",
       "75%      9.25000   64.675000   21.825000      4.390000     9.200000\n",
       "max     12.00000   74.300000   26.400000      5.580000    18.900000"
      ]
     },
     "execution_count": 46,
     "metadata": {},
     "output_type": "execute_result"
    }
   ],
   "source": [
    "df_num.describe()"
   ]
  },
  {
   "cell_type": "markdown",
   "metadata": {},
   "source": [
    "We can also break down subgroupings of our data with the method `.groupby()`."
   ]
  },
  {
   "cell_type": "code",
   "execution_count": null,
   "metadata": {},
   "outputs": [],
   "source": []
  },
  {
   "cell_type": "markdown",
   "metadata": {},
   "source": [
    "### Question\n",
    "\n",
    "Using the gapminder data, use `.groupby()` to get summary statistics by region."
   ]
  },
  {
   "cell_type": "code",
   "execution_count": 52,
   "metadata": {},
   "outputs": [
    {
     "data": {
      "text/html": [
       "<div>\n",
       "<style scoped>\n",
       "    .dataframe tbody tr th:only-of-type {\n",
       "        vertical-align: middle;\n",
       "    }\n",
       "\n",
       "    .dataframe tbody tr th {\n",
       "        vertical-align: top;\n",
       "    }\n",
       "\n",
       "    .dataframe thead th {\n",
       "        text-align: right;\n",
       "    }\n",
       "</style>\n",
       "<table border=\"1\" class=\"dataframe\">\n",
       "  <thead>\n",
       "    <tr style=\"text-align: right;\">\n",
       "      <th></th>\n",
       "      <th>count</th>\n",
       "      <th>mean</th>\n",
       "      <th>std</th>\n",
       "      <th>min</th>\n",
       "      <th>25%</th>\n",
       "      <th>50%</th>\n",
       "      <th>75%</th>\n",
       "      <th>max</th>\n",
       "    </tr>\n",
       "    <tr>\n",
       "      <th>region</th>\n",
       "      <th></th>\n",
       "      <th></th>\n",
       "      <th></th>\n",
       "      <th></th>\n",
       "      <th></th>\n",
       "      <th></th>\n",
       "      <th></th>\n",
       "      <th></th>\n",
       "    </tr>\n",
       "  </thead>\n",
       "  <tbody>\n",
       "    <tr>\n",
       "      <th>Africa</th>\n",
       "      <td>4293.0</td>\n",
       "      <td>48.173829</td>\n",
       "      <td>12.264941</td>\n",
       "      <td>4.00</td>\n",
       "      <td>38.1700</td>\n",
       "      <td>49.100</td>\n",
       "      <td>57.0000</td>\n",
       "      <td>77.6</td>\n",
       "    </tr>\n",
       "    <tr>\n",
       "      <th>America</th>\n",
       "      <td>2673.0</td>\n",
       "      <td>60.397871</td>\n",
       "      <td>15.190684</td>\n",
       "      <td>24.56</td>\n",
       "      <td>52.5400</td>\n",
       "      <td>65.740</td>\n",
       "      <td>71.9000</td>\n",
       "      <td>81.7</td>\n",
       "    </tr>\n",
       "    <tr>\n",
       "      <th>Asia</th>\n",
       "      <td>4212.0</td>\n",
       "      <td>55.761026</td>\n",
       "      <td>16.233842</td>\n",
       "      <td>8.00</td>\n",
       "      <td>43.1975</td>\n",
       "      <td>60.055</td>\n",
       "      <td>68.5000</td>\n",
       "      <td>83.2</td>\n",
       "    </tr>\n",
       "    <tr>\n",
       "      <th>Europe</th>\n",
       "      <td>3562.0</td>\n",
       "      <td>65.867973</td>\n",
       "      <td>13.899266</td>\n",
       "      <td>19.76</td>\n",
       "      <td>64.5400</td>\n",
       "      <td>70.595</td>\n",
       "      <td>74.5275</td>\n",
       "      <td>83.3</td>\n",
       "    </tr>\n",
       "  </tbody>\n",
       "</table>\n",
       "</div>"
      ],
      "text/plain": [
       "          count       mean        std    min      25%     50%      75%   max\n",
       "region                                                                      \n",
       "Africa   4293.0  48.173829  12.264941   4.00  38.1700  49.100  57.0000  77.6\n",
       "America  2673.0  60.397871  15.190684  24.56  52.5400  65.740  71.9000  81.7\n",
       "Asia     4212.0  55.761026  16.233842   8.00  43.1975  60.055  68.5000  83.2\n",
       "Europe   3562.0  65.867973  13.899266  19.76  64.5400  70.595  74.5275  83.3"
      ]
     },
     "execution_count": 52,
     "metadata": {},
     "output_type": "execute_result"
    }
   ],
   "source": [
    "## your code here: \n",
    "\n",
    "regions = df2.groupby('region')\n",
    "regions['life_expectancy'].describe()"
   ]
  },
  {
   "cell_type": "markdown",
   "metadata": {},
   "source": [
    "### Accessing rows and specific entries\n",
    "\n",
    "You can also to access a specific row using `df.loc[ROW, :]`. The colon specifies to select all columns for that row number."
   ]
  },
  {
   "cell_type": "code",
   "execution_count": null,
   "metadata": {},
   "outputs": [],
   "source": []
  },
  {
   "cell_type": "markdown",
   "metadata": {},
   "source": [
    "We can use `.loc` to find the value of specific entries, as well."
   ]
  },
  {
   "cell_type": "code",
   "execution_count": null,
   "metadata": {},
   "outputs": [],
   "source": []
  },
  {
   "cell_type": "markdown",
   "metadata": {},
   "source": [
    "## for loops"
   ]
  },
  {
   "cell_type": "code",
   "execution_count": null,
   "metadata": {},
   "outputs": [],
   "source": []
  },
  {
   "cell_type": "code",
   "execution_count": null,
   "metadata": {},
   "outputs": [],
   "source": []
  },
  {
   "cell_type": "markdown",
   "metadata": {},
   "source": [
    "### Math"
   ]
  },
  {
   "cell_type": "markdown",
   "metadata": {},
   "source": [
    "If we multiply a data frame by a single number, each value in the column will be muliplied by that value."
   ]
  },
  {
   "cell_type": "markdown",
   "metadata": {},
   "source": [
    "We can turn this into a new column by assigning to `df['new_col_name']`."
   ]
  },
  {
   "cell_type": "code",
   "execution_count": null,
   "metadata": {},
   "outputs": [],
   "source": []
  },
  {
   "cell_type": "markdown",
   "metadata": {},
   "source": [
    "Numpy functions work very well with numerical columns."
   ]
  },
  {
   "cell_type": "code",
   "execution_count": null,
   "metadata": {},
   "outputs": [],
   "source": []
  },
  {
   "cell_type": "markdown",
   "metadata": {},
   "source": [
    "This new column is now reflected in the data frame. "
   ]
  },
  {
   "cell_type": "code",
   "execution_count": null,
   "metadata": {},
   "outputs": [],
   "source": []
  },
  {
   "cell_type": "markdown",
   "metadata": {},
   "source": [
    "We can also do math between columns, since they have the same length. Elements of the same row are added, substacted, multiplied, or divided. \n"
   ]
  },
  {
   "cell_type": "code",
   "execution_count": null,
   "metadata": {},
   "outputs": [],
   "source": []
  },
  {
   "cell_type": "markdown",
   "metadata": {},
   "source": [
    "### Create your own data frame\n",
    "\n",
    "To make your own data frame without a .csv, we use the function `pd.DataFrame()`. There are many ways to use this function to construct a data frame. \n",
    "\n",
    "Here, we show how to convert a dictionary of lists into a data frame. Each list will be its own column, and you need to make sure the lists are all the same length. The keys of each list should be the column names."
   ]
  },
  {
   "cell_type": "code",
   "execution_count": 8,
   "metadata": {},
   "outputs": [],
   "source": [
    "data_dict = {\n",
    "    'a': [1, 3, 5],\n",
    "    'b': ['apple', 'banana', 'apple'],\n",
    "    'c': [-2., -3., -5.]\n",
    "}"
   ]
  },
  {
   "cell_type": "markdown",
   "metadata": {},
   "source": [
    "You can also use lists of lists or 2D NumPy arrays to create data frames. Each list will be a row, instead of a column, and you will need to specify the column name as another argument in `pd.DataFrame()` called `columns`."
   ]
  },
  {
   "cell_type": "code",
   "execution_count": 9,
   "metadata": {},
   "outputs": [],
   "source": [
    "data_list = [\n",
    "    [1, 'apple', -2.],\n",
    "    [3, 'banana', -3.],\n",
    "    [5, 'apple', -5.]\n",
    "]\n"
   ]
  },
  {
   "cell_type": "markdown",
   "metadata": {},
   "source": [
    "Note: we need to save this as a variable to use it in the future."
   ]
  },
  {
   "cell_type": "markdown",
   "metadata": {},
   "source": [
    "### Export data frame as .csv\n",
    "\n",
    "If you have made modifications to a data set in Python and want to export that to a new .csv, you can easily do that with the `.to_csv()` method that all pandas data frames have."
   ]
  },
  {
   "cell_type": "code",
   "execution_count": 55,
   "metadata": {},
   "outputs": [],
   "source": [
    "my_df = pd.DataFrame(data_list, columns=['a', 'b', 'c'])\n"
   ]
  },
  {
   "cell_type": "markdown",
   "metadata": {},
   "source": [
    "#### Question: Putting it together\n",
    "\n",
    "In assignment 2, we moved information gathered from some researchers into a nested data structure. Instead, transfer these data into a Pandas dataframe. Display the data frame, and export it as a .csv file.\n",
    "\n",
    "As a reminder, each list is in the same order as the researchers name -> all of Haley McCann's data is at index `0`."
   ]
  },
  {
   "cell_type": "code",
   "execution_count": null,
   "metadata": {},
   "outputs": [],
   "source": [
    "researchers = ['Haley McCann', 'Siena Welch', 'Jaylin Mercado', 'Ismael Hayden', 'Nina Bright']\n",
    "\n",
    "temperatures = [29.75, 12.63, 31.58, 7.16, 32.51]\n",
    "\n",
    "populations = [442, 336, 505, 913, 933]\n",
    "\n",
    "dates = ['5/25/2022','3/18/2022','6/28/2022','11/11/2022','7/6/2023']\n",
    "\n",
    "### Your code here:\n"
   ]
  },
  {
   "cell_type": "markdown",
   "metadata": {},
   "source": [
    "## Resources\n",
    "\n",
    "- [Pandas docs](https://pandas.pydata.org/docs/)\n",
    "- [Pandas getting started](https://pandas.pydata.org/docs/getting_started/index.html#getting-started)\n",
    "- [Pandas cheatsheet](https://pandas.pydata.org/Pandas_Cheat_Sheet.pdf)\n",
    "- [PySpark for big data](https://spark.apache.org/docs/latest/api/python/)\n",
    "\n",
    "This lesson is adapted from \n",
    "[Software Carpentry](http://swcarpentry.github.io/python-novice-gapminder/design/)."
   ]
  }
 ],
 "metadata": {
  "kernelspec": {
   "display_name": "Python 3.9.12 ('base')",
   "language": "python",
   "name": "python3"
  },
  "language_info": {
   "codemirror_mode": {
    "name": "ipython",
    "version": 3
   },
   "file_extension": ".py",
   "mimetype": "text/x-python",
   "name": "python",
   "nbconvert_exporter": "python",
   "pygments_lexer": "ipython3",
   "version": "3.9.13"
  },
  "orig_nbformat": 4,
  "vscode": {
   "interpreter": {
    "hash": "b52b534d3e8b2df8a7f375ea8b488ed7c2e546a5d77230d70bd2c6badbd8c861"
   }
  }
 },
 "nbformat": 4,
 "nbformat_minor": 2
}

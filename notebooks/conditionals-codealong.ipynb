{
 "cells": [
  {
   "cell_type": "markdown",
   "metadata": {},
   "source": [
    "## Review\n",
    "- Create three variables: one string, one integer, and one float\n",
    "- How do you check the data type of a variable?\n",
    "- Create a list with 5 items in it.\n",
    "- Change the third item in the list.\n",
    "- Create a dictionary with 2 key-value pairs.\n",
    "- Add a new key-value pair to the dictionary."
   ]
  },
  {
   "cell_type": "code",
   "execution_count": 15,
   "metadata": {},
   "outputs": [
    {
     "name": "stdout",
     "output_type": "stream",
     "text": [
      "{'a': 10, 'b': 20, 'd': 1}\n"
     ]
    }
   ],
   "source": [
    "# your code\n",
    "var1 = \"word\"\n",
    "x = 9\n",
    "y = 9.9\n",
    "\n",
    "type(var1)\n",
    "\n",
    "d = [1,2,3,4,5]\n",
    "d[2] = 4\n",
    "\n",
    "e = {'a':10, 'b':20}\n",
    "e['d'] = 1\n",
    "print(e)"
   ]
  },
  {
   "cell_type": "markdown",
   "metadata": {},
   "source": [
    "# Booleans and conditionals"
   ]
  },
  {
   "cell_type": "markdown",
   "metadata": {},
   "source": [
    "Often in code, we want to take different actions based on the current state of our program (e.g., do we have more or less than 100 samples in our data?). We can ask yes or no questions about this state called **boolean expressions**. These questions are answered as **true** or **false**. We can design the program to perform an action based on the response, which is called a **conditional**. "
   ]
  },
  {
   "cell_type": "markdown",
   "metadata": {},
   "source": [
    "## Boolean\n",
    "\n",
    "`True` and `False` are keywords in Python. They are a unique data type called **booleans**. \n",
    "\n",
    "Capitalization is critical. Booleans in Python have their first letter capitalized and the rest lower-case."
   ]
  },
  {
   "cell_type": "code",
   "execution_count": 16,
   "metadata": {},
   "outputs": [
    {
     "name": "stdout",
     "output_type": "stream",
     "text": [
      "False\n"
     ]
    }
   ],
   "source": [
    "f = False\n",
    "print(f)"
   ]
  },
  {
   "cell_type": "code",
   "execution_count": 17,
   "metadata": {},
   "outputs": [
    {
     "name": "stdout",
     "output_type": "stream",
     "text": [
      "True\n"
     ]
    }
   ],
   "source": [
    "t = True\n",
    "print(t)"
   ]
  },
  {
   "cell_type": "markdown",
   "metadata": {},
   "source": [
    "We can convert other data types to booleans with the function `bool()`. A number will only convert to `False` if it is exactly 0 or 0.0. All other numbers convert to `True`."
   ]
  },
  {
   "cell_type": "code",
   "execution_count": 19,
   "metadata": {},
   "outputs": [
    {
     "data": {
      "text/plain": [
       "True"
      ]
     },
     "execution_count": 19,
     "metadata": {},
     "output_type": "execute_result"
    }
   ],
   "source": [
    "bool(98789)"
   ]
  },
  {
   "cell_type": "markdown",
   "metadata": {},
   "source": [
    "Similarly, we can convert strings into booleans. Empty strings (`''` or `\"\"`) convert to `False` and any other string converts to `True`."
   ]
  },
  {
   "cell_type": "code",
   "execution_count": 20,
   "metadata": {},
   "outputs": [
    {
     "data": {
      "text/plain": [
       "True"
      ]
     },
     "execution_count": 20,
     "metadata": {},
     "output_type": "execute_result"
    }
   ],
   "source": [
    "bool(\"cool\")"
   ]
  },
  {
   "cell_type": "markdown",
   "metadata": {},
   "source": [
    "### Question 1: Converting booleans\n",
    "What happens when you convert a boolean into an integer? What about a string?"
   ]
  },
  {
   "cell_type": "code",
   "execution_count": 26,
   "metadata": {},
   "outputs": [
    {
     "name": "stdout",
     "output_type": "stream",
     "text": [
      "0\n",
      "True\n"
     ]
    }
   ],
   "source": [
    "# Your code\n",
    "\n",
    "f = False\n",
    "\n",
    "f = int(f)\n",
    "print(f)\n",
    "\n",
    "t = True\n",
    "\n",
    "t = str(t)\n",
    "print(t)"
   ]
  },
  {
   "cell_type": "markdown",
   "metadata": {},
   "source": [
    "## Boolean expressions\n",
    "Boolean expressions essentially ask questions that evaluate as `True` or `False`. These can examine whether two values are equal, if one is larger than another, or similar questions. To ask these questions we need to use special boolean operators that you'll see below.\n",
    "\n",
    "Boolean expressions are best used between the same data types. You can easily get unexpected results when comparing strings and ints, for instance. "
   ]
  },
  {
   "cell_type": "markdown",
   "metadata": {},
   "source": [
    "### Equality: `==`"
   ]
  },
  {
   "cell_type": "code",
   "execution_count": 27,
   "metadata": {},
   "outputs": [
    {
     "data": {
      "text/plain": [
       "False"
      ]
     },
     "execution_count": 27,
     "metadata": {},
     "output_type": "execute_result"
    }
   ],
   "source": [
    "\"bad\" == \"BAd\""
   ]
  },
  {
   "cell_type": "code",
   "execution_count": 28,
   "metadata": {},
   "outputs": [
    {
     "data": {
      "text/plain": [
       "True"
      ]
     },
     "execution_count": 28,
     "metadata": {},
     "output_type": "execute_result"
    }
   ],
   "source": [
    "\"cool\" == \"cool\""
   ]
  },
  {
   "cell_type": "markdown",
   "metadata": {},
   "source": [
    "*Note: checking for equality for floats can be tricky given common rounding errors. Try to avoid if possible, and test for inequality (see below).* "
   ]
  },
  {
   "cell_type": "markdown",
   "metadata": {},
   "source": [
    "### Not equals: `!=`"
   ]
  },
  {
   "cell_type": "code",
   "execution_count": 29,
   "metadata": {},
   "outputs": [
    {
     "data": {
      "text/plain": [
       "False"
      ]
     },
     "execution_count": 29,
     "metadata": {},
     "output_type": "execute_result"
    }
   ],
   "source": [
    "\"cool\" != \"cool\""
   ]
  },
  {
   "cell_type": "code",
   "execution_count": 30,
   "metadata": {},
   "outputs": [
    {
     "data": {
      "text/plain": [
       "True"
      ]
     },
     "execution_count": 30,
     "metadata": {},
     "output_type": "execute_result"
    }
   ],
   "source": [
    "1 != 2"
   ]
  },
  {
   "cell_type": "markdown",
   "metadata": {},
   "source": [
    "### Inequalities"
   ]
  },
  {
   "cell_type": "markdown",
   "metadata": {},
   "source": [
    "There are 4 different boolean operators for comparing inequalities: less than (`<`), less than or equal to (`<=`), greater than (`>`), and greater than or equal to (`>=`)."
   ]
  },
  {
   "cell_type": "code",
   "execution_count": 31,
   "metadata": {},
   "outputs": [
    {
     "data": {
      "text/plain": [
       "True"
      ]
     },
     "execution_count": 31,
     "metadata": {},
     "output_type": "execute_result"
    }
   ],
   "source": [
    "1 < 4"
   ]
  },
  {
   "cell_type": "code",
   "execution_count": 32,
   "metadata": {},
   "outputs": [
    {
     "data": {
      "text/plain": [
       "False"
      ]
     },
     "execution_count": 32,
     "metadata": {},
     "output_type": "execute_result"
    }
   ],
   "source": [
    "5.1 > 5.6"
   ]
  },
  {
   "cell_type": "code",
   "execution_count": 33,
   "metadata": {},
   "outputs": [
    {
     "data": {
      "text/plain": [
       "False"
      ]
     },
     "execution_count": 33,
     "metadata": {},
     "output_type": "execute_result"
    }
   ],
   "source": [
    "7 <= 2"
   ]
  },
  {
   "cell_type": "code",
   "execution_count": 34,
   "metadata": {},
   "outputs": [
    {
     "data": {
      "text/plain": [
       "True"
      ]
     },
     "execution_count": 34,
     "metadata": {},
     "output_type": "execute_result"
    }
   ],
   "source": [
    "7 >= 2"
   ]
  },
  {
   "cell_type": "markdown",
   "metadata": {},
   "source": [
    "### Inclusivity: `in`\n",
    "\n",
    "We can use the keyword `in` to check if an item is in a data structure (list, dictionary, set, tuple)."
   ]
  },
  {
   "cell_type": "code",
   "execution_count": 35,
   "metadata": {},
   "outputs": [
    {
     "data": {
      "text/plain": [
       "False"
      ]
     },
     "execution_count": 35,
     "metadata": {},
     "output_type": "execute_result"
    }
   ],
   "source": [
    "my_list = [ 'apple', 'pear', 'grape' ]\n",
    "\n",
    "'appe' in my_list"
   ]
  },
  {
   "cell_type": "markdown",
   "metadata": {},
   "source": [
    "Because sets are made of unique items, they are perfect for using `in`."
   ]
  },
  {
   "cell_type": "code",
   "execution_count": 36,
   "metadata": {},
   "outputs": [
    {
     "data": {
      "text/plain": [
       "False"
      ]
     },
     "execution_count": 36,
     "metadata": {},
     "output_type": "execute_result"
    }
   ],
   "source": [
    "my_set = { 'orange', 'berry', 'lemon' }\n",
    "'apple' in my_set"
   ]
  },
  {
   "cell_type": "markdown",
   "metadata": {},
   "source": [
    "You can also use `in` to check if a smaller string is a part of a larger string."
   ]
  },
  {
   "cell_type": "code",
   "execution_count": 37,
   "metadata": {},
   "outputs": [
    {
     "data": {
      "text/plain": [
       "False"
      ]
     },
     "execution_count": 37,
     "metadata": {},
     "output_type": "execute_result"
    }
   ],
   "source": [
    "'i' in 'team'"
   ]
  },
  {
   "cell_type": "code",
   "execution_count": 38,
   "metadata": {},
   "outputs": [
    {
     "data": {
      "text/plain": [
       "True"
      ]
     },
     "execution_count": 38,
     "metadata": {},
     "output_type": "execute_result"
    }
   ],
   "source": [
    "'i' in 'win'"
   ]
  },
  {
   "cell_type": "markdown",
   "metadata": {},
   "source": [
    "### `not`\n",
    "Just as adding not in a sentence reverses its meaning (e.g., \"The desk is red.\" vs \"The desk is not red.\"), adding the keyword `not` in front of a boolean expression reverses the value returned -> `not 0 == 0` returns `False`."
   ]
  },
  {
   "cell_type": "code",
   "execution_count": 39,
   "metadata": {},
   "outputs": [
    {
     "data": {
      "text/plain": [
       "False"
      ]
     },
     "execution_count": 39,
     "metadata": {},
     "output_type": "execute_result"
    }
   ],
   "source": [
    "not True"
   ]
  },
  {
   "cell_type": "code",
   "execution_count": 40,
   "metadata": {},
   "outputs": [
    {
     "data": {
      "text/plain": [
       "True"
      ]
     },
     "execution_count": 40,
     "metadata": {},
     "output_type": "execute_result"
    }
   ],
   "source": [
    "not 20 > 40"
   ]
  },
  {
   "cell_type": "code",
   "execution_count": null,
   "metadata": {},
   "outputs": [],
   "source": []
  },
  {
   "cell_type": "markdown",
   "metadata": {},
   "source": [
    "### Order of Operators"
   ]
  },
  {
   "cell_type": "markdown",
   "metadata": {},
   "source": [
    "We can chain together boolean comparisons with `and` and `or`. \n",
    "\n",
    "Putting `and` between two booleans will make the whole statement true only both statements are true. "
   ]
  },
  {
   "cell_type": "code",
   "execution_count": 41,
   "metadata": {},
   "outputs": [
    {
     "data": {
      "text/plain": [
       "True"
      ]
     },
     "execution_count": 41,
     "metadata": {},
     "output_type": "execute_result"
    }
   ],
   "source": [
    "3 < 4 and \"banana\" == \"banana\""
   ]
  },
  {
   "cell_type": "markdown",
   "metadata": {},
   "source": [
    "On the other hand, `or` only needs one of the statements to be true."
   ]
  },
  {
   "cell_type": "code",
   "execution_count": null,
   "metadata": {},
   "outputs": [],
   "source": []
  },
  {
   "cell_type": "markdown",
   "metadata": {},
   "source": [
    "Order of operations work with boolean expressions similarly to math. Comparisons run left to right, unless you put parentheses around the comparisons. "
   ]
  },
  {
   "cell_type": "code",
   "execution_count": 43,
   "metadata": {},
   "outputs": [
    {
     "data": {
      "text/plain": [
       "False"
      ]
     },
     "execution_count": 43,
     "metadata": {},
     "output_type": "execute_result"
    }
   ],
   "source": [
    "not 2 == 3 or 2 == 2 #this is true because the not only applies to 2 == 3\n",
    "not (2 == 3 or 2 == 2)"
   ]
  },
  {
   "cell_type": "markdown",
   "metadata": {},
   "source": [
    "#### Question 2: Boolean expressions"
   ]
  },
  {
   "cell_type": "markdown",
   "metadata": {},
   "source": [
    "Does the following code evalutate as `True` or `False`?"
   ]
  },
  {
   "cell_type": "code",
   "execution_count": 7,
   "metadata": {},
   "outputs": [
    {
     "data": {
      "text/plain": [
       "False"
      ]
     },
     "execution_count": 7,
     "metadata": {},
     "output_type": "execute_result"
    }
   ],
   "source": [
    "n1 = 45\n",
    "n2 = -23\n",
    "n3 = 0\n",
    "s1 = 'hello'\n",
    "s2 = 'goodbye'\n",
    "\n",
    "not (n2 < n3 and s1 == s2 or n1 >= n3)\n",
    "#False because not is before () and n2 is less than n3"
   ]
  },
  {
   "cell_type": "markdown",
   "metadata": {},
   "source": [
    "### Question 3:\n",
    "What happens when you compare different data types with `==`? What about `>`, `<`, `<=`, or `>=`?"
   ]
  },
  {
   "cell_type": "code",
   "execution_count": 50,
   "metadata": {},
   "outputs": [
    {
     "ename": "TypeError",
     "evalue": "'>' not supported between instances of 'str' and 'int'",
     "output_type": "error",
     "traceback": [
      "\u001b[1;31m---------------------------------------------------------------------------\u001b[0m",
      "\u001b[1;31mTypeError\u001b[0m                                 Traceback (most recent call last)",
      "\u001b[1;32m~\\AppData\\Local\\Temp\\ipykernel_41344\\708592136.py\u001b[0m in \u001b[0;36m<module>\u001b[1;34m\u001b[0m\n\u001b[1;32m----> 1\u001b[1;33m \u001b[1;34m'cat'\u001b[0m \u001b[1;33m>\u001b[0m \u001b[1;36m1\u001b[0m\u001b[1;33m\u001b[0m\u001b[1;33m\u001b[0m\u001b[0m\n\u001b[0m",
      "\u001b[1;31mTypeError\u001b[0m: '>' not supported between instances of 'str' and 'int'"
     ]
    }
   ],
   "source": [
    "'cat' > 1"
   ]
  },
  {
   "cell_type": "markdown",
   "metadata": {},
   "source": [
    "## Conditionals\n",
    "\n",
    "### If statements\n",
    "\n",
    "The true power of boolean expressions is in making decisions based on whether they are true or false. We do this with `if` statements. The general syntax follows this format:"
   ]
  },
  {
   "cell_type": "code",
   "execution_count": 51,
   "metadata": {},
   "outputs": [
    {
     "name": "stdout",
     "output_type": "stream",
     "text": [
      "hello\n"
     ]
    }
   ],
   "source": [
    "if 'a' != 'b':\n",
    "    print('hello')"
   ]
  },
  {
   "cell_type": "markdown",
   "metadata": {},
   "source": [
    "To break this down:\n",
    "- `if` keyword is first word in line\n",
    "- Boolean expression (`'a' != 'b'`) followed by a colon\n",
    "- Code below that is tabbed over\n",
    "- If the expression is true, the code that is below and tabbed is run\n",
    "- If the expression is false, nothing happens"
   ]
  },
  {
   "cell_type": "code",
   "execution_count": 52,
   "metadata": {},
   "outputs": [],
   "source": [
    "if 'a' == 'b':\n",
    "    print('cool')"
   ]
  },
  {
   "cell_type": "markdown",
   "metadata": {},
   "source": [
    "Here, nothing was printed, as 2 does not equal 1.\n",
    "\n",
    "We can also have more complicated boolean expressions, as well."
   ]
  },
  {
   "cell_type": "code",
   "execution_count": 53,
   "metadata": {},
   "outputs": [
    {
     "name": "stdout",
     "output_type": "stream",
     "text": [
      "cool\n"
     ]
    }
   ],
   "source": [
    "x = 0\n",
    "a = 'a'\n",
    "letters = ['a', 'b', 'c', 'd']\n",
    "\n",
    "if x > -1. and 'e' in 'letters':\n",
    "    print(\"cool\")\n"
   ]
  },
  {
   "cell_type": "markdown",
   "metadata": {},
   "source": [
    "### if-else statement\n",
    "\n",
    "Often in coding, we want one thing to happen if an expression is true, and another to happen if it is false. To accomplish this, we can add an `else` statement below the `if` statement. This will always be evaluated if the expression after `if` is `False`, otherwise it will not run: the `if` and `else` are mutually exclusive."
   ]
  },
  {
   "cell_type": "code",
   "execution_count": 55,
   "metadata": {},
   "outputs": [
    {
     "name": "stdout",
     "output_type": "stream",
     "text": [
      "greater than 20\n"
     ]
    }
   ],
   "source": [
    "x = 13\n",
    "\n",
    "if x > 20:\n",
    "    print('less than 20')\n",
    "else:\n",
    "    print('greater than 20')"
   ]
  },
  {
   "cell_type": "markdown",
   "metadata": {},
   "source": [
    "### `elif`\n",
    "\n",
    "What if you want to differentiate between more than 2 conditions? We can use the `elif` keyword, which stands for `else if`. This goes between the `if` and the `else` statements, and must include a new boolean expression.\n",
    "\n",
    "Again, these options are all mutually exclusive. If the `elif` code is run, that means the `if` and `else` code do not run."
   ]
  },
  {
   "cell_type": "code",
   "execution_count": 56,
   "metadata": {},
   "outputs": [
    {
     "name": "stdout",
     "output_type": "stream",
     "text": [
      "y is between 100 and 200\n"
     ]
    }
   ],
   "source": [
    "y = 101\n",
    "\n",
    "if y < 100: # y less than 100\n",
    "    \n",
    "    print('y is less than 100')\n",
    "elif y < 200:\n",
    "    print('y is between 100 and 200')\n",
    "else:\n",
    "    print('y is a big number')"
   ]
  },
  {
   "cell_type": "markdown",
   "metadata": {},
   "source": [
    "If we use `elif`, an `else` statement is not required. This will may result in neither the code associated with `if` nor `elif` running, however."
   ]
  },
  {
   "cell_type": "code",
   "execution_count": 10,
   "metadata": {},
   "outputs": [],
   "source": [
    "y = 400\n",
    "\n",
    "if y < 100:\n",
    "    \n",
    "    print('y is less than 100')"
   ]
  },
  {
   "cell_type": "markdown",
   "metadata": {},
   "source": [
    "Regardless of if there is an `else` statement or not, we can also include as many `elif` conditions as we want."
   ]
  },
  {
   "cell_type": "code",
   "execution_count": 11,
   "metadata": {},
   "outputs": [
    {
     "name": "stdout",
     "output_type": "stream",
     "text": [
      "That belongs in a museum!!\n"
     ]
    }
   ],
   "source": [
    "favorite_movie = 'Indiana Jones'\n",
    "\n",
    "if favorite_movie == 'Batman':\n",
    "    print(\"I'm Batman.\")\n",
    "\n",
    "elif favorite_movie == 'Lord of the Rings':\n",
    "    print(\"And my axe!!\")\n",
    "\n",
    "elif favorite_movie == 'Indiana Jones':\n",
    "    print('That belongs in a museum!!')\n",
    "\n",
    "elif favorite_movie == 'The Matrix':\n",
    "    print('whoa')\n",
    "\n",
    "else:\n",
    "    print('No quotes available :(')"
   ]
  },
  {
   "cell_type": "markdown",
   "metadata": {},
   "source": [
    "### Question 4: Conditionals\n",
    "\n",
    "Write code that will prints the square root of `x` if x is larger than 20 and `0` if x is less than `0`.\n",
    "\n",
    "Print an error message if x is a string or a boolean. \n",
    "\n",
    "*Hint*: Use `type(x)` or `isinstance(x, DATA_TYPE)`.\n"
   ]
  },
  {
   "cell_type": "code",
   "execution_count": 70,
   "metadata": {},
   "outputs": [
    {
     "name": "stdout",
     "output_type": "stream",
     "text": [
      "0\n"
     ]
    }
   ],
   "source": [
    "### Your code here:\n",
    "x = -25\n",
    "\n",
    "if type(x) == str or type(x)==bool:\n",
    "    print('please provide a number for x')\n",
    "elif x > 20:\n",
    "    print('square root of x is', x**(1/2))\n",
    "elif x < 0:\n",
    "    print(0)"
   ]
  },
  {
   "cell_type": "markdown",
   "metadata": {},
   "source": [
    "## Nested conditionals\n",
    "\n",
    "We can also put if statements inside of other if statements. Many times, these are unnecesary and can be replaced by `elif` statements, but not always.\n",
    "\n",
    "Make sure to add more indentation for the second layer of if statements."
   ]
  },
  {
   "cell_type": "code",
   "execution_count": 13,
   "metadata": {},
   "outputs": [
    {
     "name": "stdout",
     "output_type": "stream",
     "text": [
      "n is a positive even integer\n"
     ]
    }
   ],
   "source": [
    "n = 22222 # some integer\n",
    "\n",
    "if n < 0: # if n is negative\n",
    "    \n",
    "    if n % 2 == 0:\n",
    "        print(\"n is a negative even integer\")\n",
    "    \n",
    "    elif n % 2 == 1:\n",
    "        print(\"n is a negative odd integer\")\n",
    "    \n",
    "    else:\n",
    "        print(\"n is a negative number\")\n",
    "\n",
    "elif n > 0: # \n",
    "    \n",
    "    if n % 2 == 0:\n",
    "        print(\"n is a positive even integer\")\n",
    "    \n",
    "    elif n % 2 == 1:\n",
    "        print(\"n is a positive odd integer\")\n",
    "    \n",
    "    else:\n",
    "        print(\"n is a positive number\")\n",
    "\n",
    "else:\n",
    "    \n",
    "    print(\"n is zero\")"
   ]
  },
  {
   "cell_type": "markdown",
   "metadata": {},
   "source": [
    "### Question 5\n",
    "\n",
    "Create a list called `my_list` with four items in it. Create a variable called `x` with some value.\n",
    "\n",
    "Create a series of conditionals that check to see if the value in `x` is in `my_list`. \n",
    "\n",
    "If this is the case, print out different text depending on what index the item is at in the list.\n",
    "\n",
    "0. \"From zero to hero\"\n",
    "1. \"One is the loneliest number.\"\n",
    "2. \"Two's company.\"\n",
    "3. \"Three's a crowd.\""
   ]
  },
  {
   "cell_type": "code",
   "execution_count": 14,
   "metadata": {},
   "outputs": [],
   "source": [
    "### Your code here:\n",
    "my_list = [0, 1, 2, 3]\n",
    "x = 3\n",
    "\n",
    "if x in my_list:\n",
    "    if my_list[0] == x:\n",
    "        print(\"from zero to hero\")\n",
    "    elif my_list[1] ==x:\n",
    "        print(\"One is the loneliest number\")\n",
    "    elif my_list[2] == x:\n",
    "        print(\"two's company\")\n",
    "    elif my_list[3] == x:\n",
    "        print(\"three's a crowd\")"
   ]
  },
  {
   "cell_type": "markdown",
   "metadata": {},
   "source": [
    "## Resources\n",
    "- [Software Carpentry](https://swcarpentry.github.io/python-novice-inflammation/07-cond/index.html)"
   ]
  }
 ],
 "metadata": {
  "kernelspec": {
   "display_name": "base",
   "language": "python",
   "name": "python3"
  },
  "language_info": {
   "codemirror_mode": {
    "name": "ipython",
    "version": 3
   },
   "file_extension": ".py",
   "mimetype": "text/x-python",
   "name": "python",
   "nbconvert_exporter": "python",
   "pygments_lexer": "ipython3",
   "version": "3.9.13"
  },
  "orig_nbformat": 4,
  "vscode": {
   "interpreter": {
    "hash": "8d19e4ec3b848b101d227617f33f07b2682a462f980d939ed2f0fc24addfdd46"
   }
  }
 },
 "nbformat": 4,
 "nbformat_minor": 2
}
